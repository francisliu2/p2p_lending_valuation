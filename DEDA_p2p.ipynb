{
 "cells": [
  {
   "cell_type": "code",
   "execution_count": 1,
   "metadata": {},
   "outputs": [],
   "source": [
    "import pandas as pd\n",
    "import numpy as np\n",
    "import os\n",
    "import matplotlib.pyplot as plt\n",
    "import random\n",
    " \n",
    "from math import sqrt, exp\n",
    "from scipy.stats import norm\n",
    "from pylab import plot, show, grid, xlabel, ylabel"
   ]
  },
  {
   "cell_type": "code",
   "execution_count": 2,
   "metadata": {},
   "outputs": [],
   "source": [
    "os.chdir('C:\\\\Users\\\\Ramona\\\\OneDrive\\\\Dokumente\\\\Studium\\\\Master Statistik\\\\Quantitative Methods of Financial Markets\\\\DEDA\\\\notebooks')"
   ]
  },
  {
   "cell_type": "markdown",
   "metadata": {},
   "source": [
    "## Example with real data"
   ]
  },
  {
   "cell_type": "code",
   "execution_count": 2,
   "metadata": {
    "collapsed": true
   },
   "outputs": [
    {
     "ename": "FileNotFoundError",
     "evalue": "[Errno 2] File b'data\\\\BTC-USD.csv' does not exist: b'data\\\\BTC-USD.csv'",
     "output_type": "error",
     "traceback": [
      "\u001b[0;31m---------------------------------------------------------------------------\u001b[0m",
      "\u001b[0;31mFileNotFoundError\u001b[0m                         Traceback (most recent call last)",
      "\u001b[0;32m<ipython-input-2-93ad19bd380c>\u001b[0m in \u001b[0;36m<module>\u001b[0;34m\u001b[0m\n\u001b[1;32m      1\u001b[0m \u001b[0mpd\u001b[0m\u001b[0;34m.\u001b[0m\u001b[0moptions\u001b[0m\u001b[0;34m.\u001b[0m\u001b[0mmode\u001b[0m\u001b[0;34m.\u001b[0m\u001b[0mchained_assignment\u001b[0m \u001b[0;34m=\u001b[0m \u001b[0;32mNone\u001b[0m  \u001b[0;31m# default='warn'\u001b[0m\u001b[0;34m\u001b[0m\u001b[0;34m\u001b[0m\u001b[0m\n\u001b[0;32m----> 2\u001b[0;31m \u001b[0mbtc_usd\u001b[0m \u001b[0;34m=\u001b[0m \u001b[0mpd\u001b[0m\u001b[0;34m.\u001b[0m\u001b[0mread_csv\u001b[0m\u001b[0;34m(\u001b[0m\u001b[0;34m\"data\\\\BTC-USD.csv\"\u001b[0m\u001b[0;34m)\u001b[0m\u001b[0;34m\u001b[0m\u001b[0;34m\u001b[0m\u001b[0m\n\u001b[0m",
      "\u001b[0;32m~/opt/anaconda3/lib/python3.7/site-packages/pandas/io/parsers.py\u001b[0m in \u001b[0;36mparser_f\u001b[0;34m(filepath_or_buffer, sep, delimiter, header, names, index_col, usecols, squeeze, prefix, mangle_dupe_cols, dtype, engine, converters, true_values, false_values, skipinitialspace, skiprows, skipfooter, nrows, na_values, keep_default_na, na_filter, verbose, skip_blank_lines, parse_dates, infer_datetime_format, keep_date_col, date_parser, dayfirst, cache_dates, iterator, chunksize, compression, thousands, decimal, lineterminator, quotechar, quoting, doublequote, escapechar, comment, encoding, dialect, error_bad_lines, warn_bad_lines, delim_whitespace, low_memory, memory_map, float_precision)\u001b[0m\n\u001b[1;32m    683\u001b[0m         )\n\u001b[1;32m    684\u001b[0m \u001b[0;34m\u001b[0m\u001b[0m\n\u001b[0;32m--> 685\u001b[0;31m         \u001b[0;32mreturn\u001b[0m \u001b[0m_read\u001b[0m\u001b[0;34m(\u001b[0m\u001b[0mfilepath_or_buffer\u001b[0m\u001b[0;34m,\u001b[0m \u001b[0mkwds\u001b[0m\u001b[0;34m)\u001b[0m\u001b[0;34m\u001b[0m\u001b[0;34m\u001b[0m\u001b[0m\n\u001b[0m\u001b[1;32m    686\u001b[0m \u001b[0;34m\u001b[0m\u001b[0m\n\u001b[1;32m    687\u001b[0m     \u001b[0mparser_f\u001b[0m\u001b[0;34m.\u001b[0m\u001b[0m__name__\u001b[0m \u001b[0;34m=\u001b[0m \u001b[0mname\u001b[0m\u001b[0;34m\u001b[0m\u001b[0;34m\u001b[0m\u001b[0m\n",
      "\u001b[0;32m~/opt/anaconda3/lib/python3.7/site-packages/pandas/io/parsers.py\u001b[0m in \u001b[0;36m_read\u001b[0;34m(filepath_or_buffer, kwds)\u001b[0m\n\u001b[1;32m    455\u001b[0m \u001b[0;34m\u001b[0m\u001b[0m\n\u001b[1;32m    456\u001b[0m     \u001b[0;31m# Create the parser.\u001b[0m\u001b[0;34m\u001b[0m\u001b[0;34m\u001b[0m\u001b[0;34m\u001b[0m\u001b[0m\n\u001b[0;32m--> 457\u001b[0;31m     \u001b[0mparser\u001b[0m \u001b[0;34m=\u001b[0m \u001b[0mTextFileReader\u001b[0m\u001b[0;34m(\u001b[0m\u001b[0mfp_or_buf\u001b[0m\u001b[0;34m,\u001b[0m \u001b[0;34m**\u001b[0m\u001b[0mkwds\u001b[0m\u001b[0;34m)\u001b[0m\u001b[0;34m\u001b[0m\u001b[0;34m\u001b[0m\u001b[0m\n\u001b[0m\u001b[1;32m    458\u001b[0m \u001b[0;34m\u001b[0m\u001b[0m\n\u001b[1;32m    459\u001b[0m     \u001b[0;32mif\u001b[0m \u001b[0mchunksize\u001b[0m \u001b[0;32mor\u001b[0m \u001b[0miterator\u001b[0m\u001b[0;34m:\u001b[0m\u001b[0;34m\u001b[0m\u001b[0;34m\u001b[0m\u001b[0m\n",
      "\u001b[0;32m~/opt/anaconda3/lib/python3.7/site-packages/pandas/io/parsers.py\u001b[0m in \u001b[0;36m__init__\u001b[0;34m(self, f, engine, **kwds)\u001b[0m\n\u001b[1;32m    893\u001b[0m             \u001b[0mself\u001b[0m\u001b[0;34m.\u001b[0m\u001b[0moptions\u001b[0m\u001b[0;34m[\u001b[0m\u001b[0;34m\"has_index_names\"\u001b[0m\u001b[0;34m]\u001b[0m \u001b[0;34m=\u001b[0m \u001b[0mkwds\u001b[0m\u001b[0;34m[\u001b[0m\u001b[0;34m\"has_index_names\"\u001b[0m\u001b[0;34m]\u001b[0m\u001b[0;34m\u001b[0m\u001b[0;34m\u001b[0m\u001b[0m\n\u001b[1;32m    894\u001b[0m \u001b[0;34m\u001b[0m\u001b[0m\n\u001b[0;32m--> 895\u001b[0;31m         \u001b[0mself\u001b[0m\u001b[0;34m.\u001b[0m\u001b[0m_make_engine\u001b[0m\u001b[0;34m(\u001b[0m\u001b[0mself\u001b[0m\u001b[0;34m.\u001b[0m\u001b[0mengine\u001b[0m\u001b[0;34m)\u001b[0m\u001b[0;34m\u001b[0m\u001b[0;34m\u001b[0m\u001b[0m\n\u001b[0m\u001b[1;32m    896\u001b[0m \u001b[0;34m\u001b[0m\u001b[0m\n\u001b[1;32m    897\u001b[0m     \u001b[0;32mdef\u001b[0m \u001b[0mclose\u001b[0m\u001b[0;34m(\u001b[0m\u001b[0mself\u001b[0m\u001b[0;34m)\u001b[0m\u001b[0;34m:\u001b[0m\u001b[0;34m\u001b[0m\u001b[0;34m\u001b[0m\u001b[0m\n",
      "\u001b[0;32m~/opt/anaconda3/lib/python3.7/site-packages/pandas/io/parsers.py\u001b[0m in \u001b[0;36m_make_engine\u001b[0;34m(self, engine)\u001b[0m\n\u001b[1;32m   1133\u001b[0m     \u001b[0;32mdef\u001b[0m \u001b[0m_make_engine\u001b[0m\u001b[0;34m(\u001b[0m\u001b[0mself\u001b[0m\u001b[0;34m,\u001b[0m \u001b[0mengine\u001b[0m\u001b[0;34m=\u001b[0m\u001b[0;34m\"c\"\u001b[0m\u001b[0;34m)\u001b[0m\u001b[0;34m:\u001b[0m\u001b[0;34m\u001b[0m\u001b[0;34m\u001b[0m\u001b[0m\n\u001b[1;32m   1134\u001b[0m         \u001b[0;32mif\u001b[0m \u001b[0mengine\u001b[0m \u001b[0;34m==\u001b[0m \u001b[0;34m\"c\"\u001b[0m\u001b[0;34m:\u001b[0m\u001b[0;34m\u001b[0m\u001b[0;34m\u001b[0m\u001b[0m\n\u001b[0;32m-> 1135\u001b[0;31m             \u001b[0mself\u001b[0m\u001b[0;34m.\u001b[0m\u001b[0m_engine\u001b[0m \u001b[0;34m=\u001b[0m \u001b[0mCParserWrapper\u001b[0m\u001b[0;34m(\u001b[0m\u001b[0mself\u001b[0m\u001b[0;34m.\u001b[0m\u001b[0mf\u001b[0m\u001b[0;34m,\u001b[0m \u001b[0;34m**\u001b[0m\u001b[0mself\u001b[0m\u001b[0;34m.\u001b[0m\u001b[0moptions\u001b[0m\u001b[0;34m)\u001b[0m\u001b[0;34m\u001b[0m\u001b[0;34m\u001b[0m\u001b[0m\n\u001b[0m\u001b[1;32m   1136\u001b[0m         \u001b[0;32melse\u001b[0m\u001b[0;34m:\u001b[0m\u001b[0;34m\u001b[0m\u001b[0;34m\u001b[0m\u001b[0m\n\u001b[1;32m   1137\u001b[0m             \u001b[0;32mif\u001b[0m \u001b[0mengine\u001b[0m \u001b[0;34m==\u001b[0m \u001b[0;34m\"python\"\u001b[0m\u001b[0;34m:\u001b[0m\u001b[0;34m\u001b[0m\u001b[0;34m\u001b[0m\u001b[0m\n",
      "\u001b[0;32m~/opt/anaconda3/lib/python3.7/site-packages/pandas/io/parsers.py\u001b[0m in \u001b[0;36m__init__\u001b[0;34m(self, src, **kwds)\u001b[0m\n\u001b[1;32m   1915\u001b[0m         \u001b[0mkwds\u001b[0m\u001b[0;34m[\u001b[0m\u001b[0;34m\"usecols\"\u001b[0m\u001b[0;34m]\u001b[0m \u001b[0;34m=\u001b[0m \u001b[0mself\u001b[0m\u001b[0;34m.\u001b[0m\u001b[0musecols\u001b[0m\u001b[0;34m\u001b[0m\u001b[0;34m\u001b[0m\u001b[0m\n\u001b[1;32m   1916\u001b[0m \u001b[0;34m\u001b[0m\u001b[0m\n\u001b[0;32m-> 1917\u001b[0;31m         \u001b[0mself\u001b[0m\u001b[0;34m.\u001b[0m\u001b[0m_reader\u001b[0m \u001b[0;34m=\u001b[0m \u001b[0mparsers\u001b[0m\u001b[0;34m.\u001b[0m\u001b[0mTextReader\u001b[0m\u001b[0;34m(\u001b[0m\u001b[0msrc\u001b[0m\u001b[0;34m,\u001b[0m \u001b[0;34m**\u001b[0m\u001b[0mkwds\u001b[0m\u001b[0;34m)\u001b[0m\u001b[0;34m\u001b[0m\u001b[0;34m\u001b[0m\u001b[0m\n\u001b[0m\u001b[1;32m   1918\u001b[0m         \u001b[0mself\u001b[0m\u001b[0;34m.\u001b[0m\u001b[0munnamed_cols\u001b[0m \u001b[0;34m=\u001b[0m \u001b[0mself\u001b[0m\u001b[0;34m.\u001b[0m\u001b[0m_reader\u001b[0m\u001b[0;34m.\u001b[0m\u001b[0munnamed_cols\u001b[0m\u001b[0;34m\u001b[0m\u001b[0;34m\u001b[0m\u001b[0m\n\u001b[1;32m   1919\u001b[0m \u001b[0;34m\u001b[0m\u001b[0m\n",
      "\u001b[0;32mpandas/_libs/parsers.pyx\u001b[0m in \u001b[0;36mpandas._libs.parsers.TextReader.__cinit__\u001b[0;34m()\u001b[0m\n",
      "\u001b[0;32mpandas/_libs/parsers.pyx\u001b[0m in \u001b[0;36mpandas._libs.parsers.TextReader._setup_parser_source\u001b[0;34m()\u001b[0m\n",
      "\u001b[0;31mFileNotFoundError\u001b[0m: [Errno 2] File b'data\\\\BTC-USD.csv' does not exist: b'data\\\\BTC-USD.csv'"
     ]
    }
   ],
   "source": [
    "pd.options.mode.chained_assignment = None  # default='warn'\n",
    "btc_usd = pd.read_csv(\"data\\\\BTC-USD.csv\")"
   ]
  },
  {
   "cell_type": "code",
   "execution_count": 4,
   "metadata": {},
   "outputs": [
    {
     "data": {
      "text/plain": [
       "Text(0.5, 1.0, 'BTC values over one year')"
      ]
     },
     "execution_count": 4,
     "metadata": {},
     "output_type": "execute_result"
    },
    {
     "data": {
      "image/png": "[encoded data removed]",
      "text/plain": [
       "<Figure size 432x288 with 1 Axes>"
      ]
     },
     "metadata": {
      "needs_background": "light"
     },
     "output_type": "display_data"
    }
   ],
   "source": [
    "#btc_usd['Close'].plot()\n",
    "plt.plot(btc_usd['Date'], btc_usd['Close'])\n",
    "plt.gca().xaxis.set_major_locator(plt.MultipleLocator(90))\n",
    "plt.title('BTC values over one year')"
   ]
  },
  {
   "cell_type": "code",
   "execution_count": 5,
   "metadata": {},
   "outputs": [
    {
     "data": {
      "text/html": [
       "<div>\n",
       "<style scoped>\n",
       "    .dataframe tbody tr th:only-of-type {\n",
       "        vertical-align: middle;\n",
       "    }\n",
       "\n",
       "    .dataframe tbody tr th {\n",
       "        vertical-align: top;\n",
       "    }\n",
       "\n",
       "    .dataframe thead th {\n",
       "        text-align: right;\n",
       "    }\n",
       "</style>\n",
       "<table border=\"1\" class=\"dataframe\">\n",
       "  <thead>\n",
       "    <tr style=\"text-align: right;\">\n",
       "      <th></th>\n",
       "      <th>Date</th>\n",
       "      <th>Open</th>\n",
       "      <th>High</th>\n",
       "      <th>Low</th>\n",
       "      <th>Close</th>\n",
       "      <th>Adj Close</th>\n",
       "      <th>Volume</th>\n",
       "    </tr>\n",
       "  </thead>\n",
       "  <tbody>\n",
       "    <tr>\n",
       "      <td>259</td>\n",
       "      <td>2020-03-01</td>\n",
       "      <td>8599.758789</td>\n",
       "      <td>8726.796875</td>\n",
       "      <td>8471.212891</td>\n",
       "      <td>8562.454102</td>\n",
       "      <td>8562.454102</td>\n",
       "      <td>35349164300</td>\n",
       "    </tr>\n",
       "  </tbody>\n",
       "</table>\n",
       "</div>"
      ],
      "text/plain": [
       "           Date         Open         High          Low        Close  \\\n",
       "259  2020-03-01  8599.758789  8726.796875  8471.212891  8562.454102   \n",
       "\n",
       "       Adj Close       Volume  \n",
       "259  8562.454102  35349164300  "
      ]
     },
     "execution_count": 5,
     "metadata": {},
     "output_type": "execute_result"
    }
   ],
   "source": [
    "btc_usd.loc[btc_usd['Date']=='2020-03-01']"
   ]
  },
  {
   "cell_type": "code",
   "execution_count": 6,
   "metadata": {},
   "outputs": [],
   "source": [
    "# create subset, here for month of may\n",
    "subset = btc_usd[256:289]\n",
    "subset.index = range(0,len(subset))\n",
    "subset.index.name = 'Days'\n",
    "subset['LTV']=''"
   ]
  },
  {
   "cell_type": "code",
   "execution_count": 3,
   "metadata": {},
   "outputs": [
    {
     "ename": "NameError",
     "evalue": "name 'subset' is not defined",
     "output_type": "error",
     "traceback": [
      "\u001b[0;31m---------------------------------------------------------------------------\u001b[0m",
      "\u001b[0;31mNameError\u001b[0m                                 Traceback (most recent call last)",
      "\u001b[0;32m<ipython-input-3-ce39a6284cb4>\u001b[0m in \u001b[0;36m<module>\u001b[0;34m\u001b[0m\n\u001b[1;32m     11\u001b[0m \u001b[0;34m\u001b[0m\u001b[0m\n\u001b[1;32m     12\u001b[0m \u001b[0;31m# BTC needed\u001b[0m\u001b[0;34m\u001b[0m\u001b[0;34m\u001b[0m\u001b[0;34m\u001b[0m\u001b[0m\n\u001b[0;32m---> 13\u001b[0;31m \u001b[0mCS_btc\u001b[0m \u001b[0;34m=\u001b[0m \u001b[0mB0\u001b[0m\u001b[0;34m/\u001b[0m\u001b[0;34m(\u001b[0m\u001b[0mltv0\u001b[0m\u001b[0;34m*\u001b[0m\u001b[0msubset\u001b[0m\u001b[0;34m[\u001b[0m\u001b[0;34m'Close'\u001b[0m\u001b[0;34m]\u001b[0m\u001b[0;34m[\u001b[0m\u001b[0;36m0\u001b[0m\u001b[0;34m]\u001b[0m\u001b[0;34m)\u001b[0m\u001b[0;34m\u001b[0m\u001b[0;34m\u001b[0m\u001b[0m\n\u001b[0m\u001b[1;32m     14\u001b[0m \u001b[0;34m\u001b[0m\u001b[0m\n\u001b[1;32m     15\u001b[0m \u001b[0;31m# in USD\u001b[0m\u001b[0;34m\u001b[0m\u001b[0;34m\u001b[0m\u001b[0;34m\u001b[0m\u001b[0m\n",
      "\u001b[0;31mNameError\u001b[0m: name 'subset' is not defined"
     ]
    }
   ],
   "source": [
    "# borrowed amount in USD\n",
    "B0 = 10000\n",
    "\n",
    "# pre-agreed initial LTV\n",
    "ltv0 = 0.6\n",
    "# pre-agreed liquidation threshold\n",
    "K = 0.9\n",
    "\n",
    "# danger zone\n",
    "# D = 0.8\n",
    "\n",
    "# BTC needed\n",
    "CS_btc = B0/(ltv0*subset['Close'][0])\n",
    "\n",
    "# in USD\n",
    "CS_usd = CS_btc*subset['Close'][0]\n",
    "\n",
    "print(CS_btc, CS_usd)"
   ]
  },
  {
   "cell_type": "code",
   "execution_count": 21,
   "metadata": {},
   "outputs": [
    {
     "name": "stdout",
     "output_type": "stream",
     "text": [
      "            Date         Open         High          Low        Close  \\\n",
      "Days                                                                   \n",
      "0     2020-02-27  8825.093750  8932.892578  8577.199219  8784.494141   \n",
      "1     2020-02-28  8788.728516  8890.456055  8492.932617  8672.455078   \n",
      "2     2020-02-29  8671.212891  8775.631836  8599.508789  8599.508789   \n",
      "3     2020-03-01  8599.758789  8726.796875  8471.212891  8562.454102   \n",
      "4     2020-03-02  8563.264648  8921.308594  8532.630859  8869.669922   \n",
      "5     2020-03-03  8865.387695  8901.598633  8704.990234  8787.786133   \n",
      "6     2020-03-04  8788.541992  8843.366211  8712.431641  8755.246094   \n",
      "7     2020-03-05  8760.285156  9142.054688  8757.253906  9078.762695   \n",
      "8     2020-03-06  9078.308594  9167.695313  9032.079102  9122.545898   \n",
      "9     2020-03-07  9121.600586  9163.220703  8890.744141  8909.954102   \n",
      "10    2020-03-08  8908.206055  8914.343750  8105.252930  8108.116211   \n",
      "11    2020-03-09  8111.146484  8177.793457  7690.098145  7923.644531   \n",
      "12    2020-03-10  7922.146973  8136.945313  7814.763184  7909.729492   \n",
      "13    2020-03-11  7910.089844  7950.814453  7642.812500  7911.430176   \n",
      "14    2020-03-12  7913.616211  7929.116211  4860.354004  4970.788086   \n",
      "15    2020-03-13  5017.831055  5838.114746  4106.980957  5563.707031   \n",
      "16    2020-03-14  5573.077637  5625.226563  5125.069336  5200.366211   \n",
      "17    2020-03-15  5201.066895  5836.645020  5169.283203  5392.314941   \n",
      "18    2020-03-16  5385.229492  5385.229492  4575.357910  5014.479980   \n",
      "19    2020-03-17  5002.578125  5371.348633  4981.909180  5225.629395   \n",
      "20    2020-03-18  5227.113770  5331.833984  5069.335938  5238.438477   \n",
      "21    2020-03-19  5245.416504  6329.735840  5236.968750  6191.192871   \n",
      "22    2020-03-20  6191.653809  6844.261719  5865.781738  6198.778320   \n",
      "23    2020-03-21  6206.521484  6378.135254  5932.823242  6185.066406   \n",
      "24    2020-03-22  6185.558105  6359.697266  5823.713867  5830.254883   \n",
      "25    2020-03-23  5831.374512  6443.934570  5785.004395  6416.314941   \n",
      "26    2020-03-24  6436.642578  6789.022949  6411.066406  6734.803711   \n",
      "27    2020-03-25  6738.716797  6892.511230  6536.926270  6681.062988   \n",
      "28    2020-03-26  6675.170898  6735.463867  6590.962891  6716.440430   \n",
      "29    2020-03-27  6719.389160  6793.836426  6466.701660  6469.798340   \n",
      "30    2020-03-28  6467.253906  6467.500977  6117.837891  6242.193848   \n",
      "31    2020-03-29  6245.624512  6250.467285  5920.085938  5922.042969   \n",
      "32    2020-03-30  5925.538574  6517.195801  5903.234375  6429.841797   \n",
      "\n",
      "        Adj Close       Volume       LTV  \n",
      "Days                                      \n",
      "0     8784.494141  45470195695       0.6  \n",
      "1     8672.455078  44605450442  0.607751  \n",
      "2     8599.508789  35792392544  0.612907  \n",
      "3     8562.454102  35349164300  0.615559  \n",
      "4     8869.669922  42857674408  0.594238  \n",
      "5     8787.786133  42386715820  0.599775  \n",
      "6     8755.246094  34746706368  0.602004  \n",
      "7     9078.762695  39698054597  0.580552  \n",
      "8     9122.545898  40826885650  0.577766  \n",
      "9     8909.954102  36216930369  0.591551  \n",
      "10    8108.116211  39973102120  0.650052  \n",
      "11    7923.644531  46936995808  0.665186  \n",
      "12    7909.729492  42213940993  0.666356  \n",
      "13    7911.430176  38682762604  0.666213  \n",
      "14    4970.788086  53980357243   1.06033  \n",
      "15    5563.707031  74156772074  0.947335  \n",
      "16    5200.366211  36154506007   1.01352  \n",
      "17    5392.314941  33997889638  0.977446  \n",
      "18    5014.479980  45368026429    1.0511  \n",
      "19    5225.629395  38622642935   1.00862  \n",
      "20    5238.438477  37878801016   1.00616  \n",
      "21    6191.192871  51000731797  0.851322  \n",
      "22    6198.778320  54442976102   0.85028  \n",
      "23    6185.066406  42494390879  0.852165  \n",
      "24    5830.254883  40099664740  0.904025  \n",
      "25    6416.314941  46491915999  0.821452  \n",
      "26    6734.803711  48221910672  0.782606  \n",
      "27    6681.062988  44590107887  0.788901  \n",
      "28    6716.440430  35319797641  0.784746  \n",
      "29    6469.798340  34585598366  0.814662  \n",
      "30    6242.193848  34885225901  0.844366  \n",
      "31    5922.042969  28373690930  0.890013  \n",
      "32    6429.841797  37101651525  0.819724  \n"
     ]
    }
   ],
   "source": [
    "subset['LTV'][0] = ltv0\n",
    "for i in range(1,len(subset)):\n",
    "    subset['LTV'][i] = B0/(CS_btc*subset['Close'][i])\n",
    "print(subset)"
   ]
  },
  {
   "cell_type": "code",
   "execution_count": 22,
   "metadata": {},
   "outputs": [
    {
     "data": {
      "image/png": "[encoded data removed]",
      "text/plain": [
       "<Figure size 432x288 with 1 Axes>"
      ]
     },
     "metadata": {
      "needs_background": "light"
     },
     "output_type": "display_data"
    }
   ],
   "source": [
    "subset['LTV'].plot()\n",
    "xlabel('days in march')\n",
    "ylabel('LTV')\n",
    "plt.title('LTV Ratio in 30 days')\n",
    "plt.axhline(y=K, color='r', linestyle='-')\n",
    "#plt.savefig('plots\\\\case_study.png', transparent=True)\n",
    "show()"
   ]
  },
  {
   "cell_type": "code",
   "execution_count": 15,
   "metadata": {},
   "outputs": [
    {
     "data": {
      "text/plain": [
       "<matplotlib.axes._subplots.AxesSubplot at 0x223fbea9688>"
      ]
     },
     "execution_count": 15,
     "metadata": {},
     "output_type": "execute_result"
    },
    {
     "data": {
      "image/png": "[encoded data removed]",
      "text/plain": [
       "<Figure size 432x288 with 1 Axes>"
      ]
     },
     "metadata": {
      "needs_background": "light"
     },
     "output_type": "display_data"
    }
   ],
   "source": [
    "subset['Close'].plot()"
   ]
  },
  {
   "cell_type": "markdown",
   "metadata": {},
   "source": [
    "## Simulation of BTC Prices and LTVs"
   ]
  },
  {
   "cell_type": "code",
   "execution_count": 23,
   "metadata": {},
   "outputs": [],
   "source": [
    "def btc_sim(s0, ltv0, n, dt, sigma, mu, out_btc=None, out_ltv=None):\n",
    "    s0 = np.asarray(s0)\n",
    "    ltv0 = np.asarray(ltv0)\n",
    "    \n",
    "    # For each element of s0, generate a sample of n numbers from a\n",
    "    # standard normal distribution.\n",
    "    z = norm.rvs(size=s0.shape + (n,), loc=0.0, scale=1.0)\n",
    "    \n",
    "    if out_btc is None:\n",
    "        out_btc = np.empty(z.shape)\n",
    "    \n",
    "    if out_ltv is None:\n",
    "        out_ltv = np.empty(z.shape)\n",
    "    \n",
    "    incr_s = np.exp(sigma*np.sqrt(dt)*z + (mu - (sigma**2)/2)*dt)\n",
    "    incr_ltv = np.exp(-sigma*np.sqrt(dt)*z + (-mu + sigma**2-(sigma**2)/2)*dt)\n",
    "    \n",
    "    np.cumprod(incr_s, axis=-1, out=out_btc)\n",
    "    np.cumprod(incr_ltv, axis=-1, out=out_ltv)\n",
    "    \n",
    "    out_btc *= np.expand_dims(s0, axis=-1)\n",
    "    out_ltv *= np.expand_dims(ltv0, axis=-1)\n",
    "\n",
    "    return out_btc, out_ltv"
   ]
  },
  {
   "cell_type": "code",
   "execution_count": 185,
   "metadata": {},
   "outputs": [],
   "source": [
    "T = 12.0\n",
    "N = 365\n",
    "dt = T/N  \n",
    "\n",
    "t = np.linspace(0.0, N*dt, N+1)\n",
    "\n",
    "# number of realizations\n",
    "m = 10000\n",
    "\n",
    "# drift rate\n",
    "mu = 0.088\n",
    "# volatility\n",
    "sigma = 0.65\n",
    "\n",
    "#bitcoin value on 07/06/2020 in USD\n",
    "#S0 = 9495.70\n",
    "#bitcoin value on 12/06/2020\n",
    "S0 = 9425.92\n",
    "LTV0 = 0.6\n",
    "#CR0 = 1.75\n",
    "\n",
    "S = np.empty((m,N+1))\n",
    "S[:,0] = S0\n",
    "\n",
    "LTV = np.empty((m,N+1))\n",
    "LTV[:,0] = LTV0"
   ]
  },
  {
   "cell_type": "code",
   "execution_count": 186,
   "metadata": {},
   "outputs": [
    {
     "data": {
      "image/png": "[encoded data removed]",
      "text/plain": [
       "<Figure size 432x288 with 1 Axes>"
      ]
     },
     "metadata": {
      "needs_background": "light"
     },
     "output_type": "display_data"
    }
   ],
   "source": [
    "# simulation with positive drift rate\n",
    "#np.random.seed(2020)\n",
    "np.random.seed(202006)\n",
    "btc_sim(S[:,0], LTV[:,0], N, dt, sigma, mu,\n",
    "        out_btc=S[:,1:], out_ltv=LTV[:,1:])\n",
    "\n",
    "#for k in range(m):    \n",
    "#    plot(t, S[k])\n",
    "\n",
    "plot(t, S[0])\n",
    "\n",
    "xlabel('t')\n",
    "ylabel('BTC')\n",
    "plt.title('Simulated BTC Prices')\n",
    "#leg = plt.legend()\n",
    "#grid(True)\n",
    "#plt.savefig('plots\\\\sim_btc.png', transparent=True)\n",
    "show()"
   ]
  },
  {
   "cell_type": "code",
   "execution_count": 187,
   "metadata": {},
   "outputs": [
    {
     "data": {
      "image/png": "[encoded data removed]",
      "text/plain": [
       "<Figure size 432x288 with 1 Axes>"
      ]
     },
     "metadata": {
      "needs_background": "light"
     },
     "output_type": "display_data"
    }
   ],
   "source": [
    "#for k in range(m):    \n",
    "#    plot(t, LTV[k])\n",
    "\n",
    "plot(LTV[0])\n",
    "\n",
    "xlabel('t')\n",
    "ylabel('CR')\n",
    "plt.title('Simulated LTV Ratios')\n",
    "plt.axhline(y=K, color='r', linestyle='-')\n",
    "#leg = plt.legend()\n",
    "#grid(True)\n",
    "show()"
   ]
  },
  {
   "cell_type": "code",
   "execution_count": 188,
   "metadata": {},
   "outputs": [
    {
     "data": {
      "image/png": "[encoded data removed]",
      "text/plain": [
       "<Figure size 432x288 with 2 Axes>"
      ]
     },
     "metadata": {
      "needs_background": "light"
     },
     "output_type": "display_data"
    }
   ],
   "source": [
    "fig, ax1 = plt.subplots()\n",
    "\n",
    "color = 'tab:blue'\n",
    "ax1.set_xlabel('time in months')\n",
    "ax1.set_ylabel('BTC', color=color)\n",
    "ax1.plot(t, S[0], color=color)\n",
    "ax1.tick_params(axis='y', labelcolor=color)\n",
    "\n",
    "ax2 = ax1.twinx()  \n",
    "\n",
    "color = 'tab:green'\n",
    "ax2.set_ylabel('LTV', color=color)  \n",
    "ax2.plot(t, LTV[0], color=color)\n",
    "ax2.tick_params(axis='y', labelcolor=color)\n",
    "#ax2.axhline(y=1.5, color='r', linestyle='-')\n",
    "\n",
    "plt.title('Simulated BTC prices and LTV Ratios')\n",
    "fig.tight_layout() \n",
    "#plt.savefig('plots\\\\sim_2.png', transparent=True)\n",
    "plt.show()"
   ]
  },
  {
   "cell_type": "markdown",
   "metadata": {},
   "source": [
    "## Determine Value of Lending Contract"
   ]
  },
  {
   "cell_type": "code",
   "execution_count": 234,
   "metadata": {},
   "outputs": [],
   "source": [
    "def payoff(S, LTV, B0, l, t, N, r, v=0):\n",
    "    B = (1+l)*B0             # total repayment\n",
    "    #CS_usd = CR[v-1,0]*B0   # collateral size\n",
    "    CS_usd = B0/LTV[v,0]\n",
    "    CS_btc = CS_usd/S[v,0] # amount of bitcoin needed\n",
    "    \n",
    "    # find time points where CR hits K\n",
    "    tau = np.argwhere(LTV[v] >= K)\n",
    "    \n",
    "    if len(tau) == 0:\n",
    "        F = exp(-r*(N-t)/N)*B\n",
    "        \n",
    "    else:\n",
    "        F = exp(-r*((tau[0]-t)/N))*(CS_btc*S[v,tau[0]])\n",
    "        \n",
    "    return F"
   ]
  },
  {
   "cell_type": "code",
   "execution_count": 269,
   "metadata": {},
   "outputs": [],
   "source": [
    "### contract setup ###\n",
    "# borrowed amount in USD\n",
    "B0 = 10000\n",
    "\n",
    "# pre-agreed interest rate\n",
    "l = 0.1\n",
    "\n",
    "# repayment\n",
    "B = B0*(1+l)\n",
    "\n",
    "# discounting factor\n",
    "r = 0.01\n",
    "\n",
    "# threshold for CR\n",
    "#K = 1.5\n",
    "K = 0.9\n",
    "\n",
    "# time point of view (in days)\n",
    "t = N"
   ]
  },
  {
   "cell_type": "code",
   "execution_count": 270,
   "metadata": {},
   "outputs": [],
   "source": [
    "# calculate payoff for all contracts\n",
    "F = np.empty((m))\n",
    "\n",
    "for k in range(m):\n",
    "    F[k]=payoff(S, LTV, B0, l, t, N, r, v=k)"
   ]
  },
  {
   "cell_type": "code",
   "execution_count": 271,
   "metadata": {},
   "outputs": [
    {
     "name": "stdout",
     "output_type": "stream",
     "text": [
      "mean: 10511.933877725693\n",
      "variance: 352736.9512574813\n",
      "standard deviation: 593.9166197855396\n"
     ]
    }
   ],
   "source": [
    "# empirical mean of all contracts\n",
    "mean = 1/m*sum(F)\n",
    "\n",
    "# empirical variance\n",
    "variance = 1/m*(sum(((F-mean)**2)))\n",
    "sd = sqrt(variance)\n",
    "\n",
    "print('mean: ', mean, sep=\"\")\n",
    "print('variance: ', variance, sep=\"\")\n",
    "print('standard deviation: ', sd, sep=\"\")"
   ]
  },
  {
   "cell_type": "code",
   "execution_count": 272,
   "metadata": {},
   "outputs": [
    {
     "data": {
      "text/plain": [
       "10407.33838802457"
      ]
     },
     "execution_count": 272,
     "metadata": {},
     "output_type": "execute_result"
    }
   ],
   "source": [
    "# therefore, the expected value of the contract is\n",
    "V = exp(-r)*mean; V"
   ]
  },
  {
   "cell_type": "code",
   "execution_count": 273,
   "metadata": {},
   "outputs": [
    {
     "data": {
      "text/plain": [
       "10890.54817124085"
      ]
     },
     "execution_count": 273,
     "metadata": {},
     "output_type": "execute_result"
    }
   ],
   "source": [
    "# discounted value of the pre-agreed payback\n",
    "exp(-r)*B"
   ]
  },
  {
   "cell_type": "code",
   "execution_count": 279,
   "metadata": {},
   "outputs": [
    {
     "name": "stdout",
     "output_type": "stream",
     "text": [
      "[12602.12291515] [[ 10]\n",
      " [ 11]\n",
      " [ 12]\n",
      " [ 13]\n",
      " [ 14]\n",
      " [ 15]\n",
      " [ 16]\n",
      " [ 17]\n",
      " [ 18]\n",
      " [ 19]\n",
      " [ 20]\n",
      " [ 21]\n",
      " [ 22]\n",
      " [ 23]\n",
      " [ 24]\n",
      " [ 25]\n",
      " [ 26]\n",
      " [ 27]\n",
      " [ 28]\n",
      " [ 29]\n",
      " [ 30]\n",
      " [ 31]\n",
      " [ 32]\n",
      " [ 33]\n",
      " [ 34]\n",
      " [ 35]\n",
      " [ 36]\n",
      " [ 37]\n",
      " [ 38]\n",
      " [ 39]\n",
      " [ 40]\n",
      " [ 41]\n",
      " [ 42]\n",
      " [ 43]\n",
      " [ 44]\n",
      " [ 45]\n",
      " [ 46]\n",
      " [ 47]\n",
      " [ 48]\n",
      " [ 49]\n",
      " [ 50]\n",
      " [ 51]\n",
      " [ 52]\n",
      " [ 53]\n",
      " [ 54]\n",
      " [ 55]\n",
      " [ 56]\n",
      " [ 57]\n",
      " [ 58]\n",
      " [ 59]\n",
      " [ 60]\n",
      " [ 61]\n",
      " [ 62]\n",
      " [ 63]\n",
      " [ 64]\n",
      " [ 65]\n",
      " [ 66]\n",
      " [113]\n",
      " [114]\n",
      " [117]\n",
      " [118]\n",
      " [119]\n",
      " [120]\n",
      " [121]\n",
      " [122]\n",
      " [123]\n",
      " [124]\n",
      " [125]\n",
      " [126]\n",
      " [127]\n",
      " [128]\n",
      " [129]\n",
      " [130]\n",
      " [131]\n",
      " [132]\n",
      " [133]\n",
      " [134]\n",
      " [135]\n",
      " [136]\n",
      " [137]\n",
      " [138]\n",
      " [139]\n",
      " [140]\n",
      " [141]\n",
      " [142]\n",
      " [143]\n",
      " [144]\n",
      " [145]\n",
      " [146]\n",
      " [147]\n",
      " [148]\n",
      " [149]\n",
      " [150]\n",
      " [151]\n",
      " [152]\n",
      " [153]\n",
      " [154]\n",
      " [155]\n",
      " [156]\n",
      " [157]\n",
      " [158]\n",
      " [159]\n",
      " [160]\n",
      " [161]\n",
      " [162]\n",
      " [163]\n",
      " [164]\n",
      " [165]\n",
      " [166]\n",
      " [167]\n",
      " [168]\n",
      " [169]\n",
      " [170]\n",
      " [171]\n",
      " [172]\n",
      " [173]\n",
      " [174]\n",
      " [175]\n",
      " [176]\n",
      " [177]\n",
      " [178]\n",
      " [179]\n",
      " [180]\n",
      " [181]\n",
      " [182]\n",
      " [183]\n",
      " [184]\n",
      " [185]\n",
      " [186]\n",
      " [187]\n",
      " [188]\n",
      " [189]\n",
      " [190]\n",
      " [191]\n",
      " [192]\n",
      " [193]\n",
      " [194]\n",
      " [195]\n",
      " [196]\n",
      " [198]\n",
      " [199]\n",
      " [200]\n",
      " [201]\n",
      " [202]\n",
      " [203]\n",
      " [204]\n",
      " [205]\n",
      " [206]\n",
      " [207]\n",
      " [208]\n",
      " [209]\n",
      " [358]\n",
      " [359]\n",
      " [360]\n",
      " [361]\n",
      " [362]\n",
      " [363]\n",
      " [364]\n",
      " [365]]\n"
     ]
    }
   ],
   "source": [
    "t_test=np.argwhere(LTV[0] >= 0.8)\n",
    "CS_btc = CS_usd/S[0,0]\n",
    "p_test=exp(r*(N-t_test[0])/N)*CS_btc*S[0,t_test[0]]\n",
    "print(p_test, t_test)"
   ]
  },
  {
   "cell_type": "code",
   "execution_count": 266,
   "metadata": {},
   "outputs": [
    {
     "data": {
      "text/plain": [
       "array([12476.72969703])"
      ]
     },
     "execution_count": 266,
     "metadata": {},
     "output_type": "execute_result"
    }
   ],
   "source": [
    "exp(-r)*payoff(S, LTV, B0, l, t, N, r, v=0)"
   ]
  },
  {
   "cell_type": "code",
   "execution_count": 242,
   "metadata": {},
   "outputs": [
    {
     "data": {
      "text/plain": [
       "10875.538942436762"
      ]
     },
     "execution_count": 242,
     "metadata": {},
     "output_type": "execute_result"
    }
   ],
   "source": [
    "F[0]"
   ]
  },
  {
   "cell_type": "markdown",
   "metadata": {},
   "source": [
    "## Sell only Part of Collateral to adjust LTV"
   ]
  },
  {
   "cell_type": "code",
   "execution_count": 39,
   "metadata": {},
   "outputs": [
    {
     "data": {
      "text/plain": [
       "array([26], dtype=int64)"
      ]
     },
     "execution_count": 39,
     "metadata": {},
     "output_type": "execute_result"
    }
   ],
   "source": [
    "test = np.argwhere(LTV[2]>K)[0]; test"
   ]
  },
  {
   "cell_type": "code",
   "execution_count": 41,
   "metadata": {},
   "outputs": [
    {
     "name": "stdout",
     "output_type": "stream",
     "text": [
      "[1.24895202] BTC are liquidized to obtain better LTV.\n",
      " The new Collateral Size is [2715.7232417] with a LTV of [1.75584763]\n"
     ]
    }
   ],
   "source": [
    "# max LTV\n",
    "b = 0.6\n",
    "\n",
    "# how much has to be liquidized?\n",
    "loan_new = b*CS_btc*S[0,test]\n",
    "\n",
    "# amount of btc needed\n",
    "CS_liq = (B0-loan_new)/S[0,test]\n",
    "\n",
    "# new value of collateral\n",
    "CS_new = (CS_btc - CS_liq)*S[0,test]\n",
    "\n",
    "# new LTV\n",
    "LTV_new = loan_new/CS_new\n",
    "\n",
    "print(CS_liq, ' BTC are liquidized to obtain better LTV.', sep=\"\")\n",
    "print(' The new Collateral Size is ', CS_new, ' with a LTV of ', LTV_new, sep=\"\")"
   ]
  },
  {
   "cell_type": "code",
   "execution_count": null,
   "metadata": {},
   "outputs": [],
   "source": []
  }
 ],
 "metadata": {
  "kernelspec": {
   "display_name": "Python 3",
   "language": "python",
   "name": "python3"
  },
  "language_info": {
   "codemirror_mode": {
    "name": "ipython",
    "version": 3
   },
   "file_extension": ".py",
   "mimetype": "text/x-python",
   "name": "python",
   "nbconvert_exporter": "python",
   "pygments_lexer": "ipython3",
   "version": "3.7.4"
  }
 },
 "nbformat": 4,
 "nbformat_minor": 2
}
